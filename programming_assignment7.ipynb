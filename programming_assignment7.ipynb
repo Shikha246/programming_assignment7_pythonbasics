{
 "cells": [
  {
   "cell_type": "markdown",
   "id": "ccd3c537",
   "metadata": {},
   "source": [
    "## 1. Write a Python Program to find sum of array?"
   ]
  },
  {
   "cell_type": "code",
   "execution_count": 1,
   "id": "6cedcfc8",
   "metadata": {},
   "outputs": [
    {
     "name": "stdout",
     "output_type": "stream",
     "text": [
      "sum of the array:145\n"
     ]
    }
   ],
   "source": [
    "#method1\n",
    "arr=[25,30,40,50]\n",
    "sum=0\n",
    "for i in arr:\n",
    "    sum+=i\n",
    "print(f\"sum of the array:{sum}\")\n",
    "    "
   ]
  },
  {
   "cell_type": "code",
   "execution_count": 2,
   "id": "51359d42",
   "metadata": {},
   "outputs": [
    {
     "name": "stdout",
     "output_type": "stream",
     "text": [
      "155\n"
     ]
    }
   ],
   "source": [
    "#methos2\n",
    "arr=[25,30,40,60]\n",
    "print(sum(arr))"
   ]
  },
  {
   "cell_type": "markdown",
   "id": "364c36a9",
   "metadata": {},
   "source": [
    "## 2. Write a Python Program to find largest element in an array?\n"
   ]
  },
  {
   "cell_type": "code",
   "execution_count": 3,
   "id": "044bf269",
   "metadata": {},
   "outputs": [
    {
     "name": "stdout",
     "output_type": "stream",
     "text": [
      "The largest number in the array is 90\n"
     ]
    }
   ],
   "source": [
    "#method=1\n",
    "arr=[25,30,40,50,90]\n",
    "largest=arr[0]\n",
    "for i in arr:\n",
    "    if i> largest:\n",
    "        largest= i\n",
    "print(f\"The largest number in the array is {largest}\")        "
   ]
  },
  {
   "cell_type": "code",
   "execution_count": 4,
   "id": "8b8e45b9",
   "metadata": {},
   "outputs": [
    {
     "name": "stdout",
     "output_type": "stream",
     "text": [
      "90\n"
     ]
    }
   ],
   "source": [
    "#method 2\n",
    "arr=[25,30,40,50,90]\n",
    "print(max(arr))\n"
   ]
  },
  {
   "cell_type": "markdown",
   "id": "ac4d97ad",
   "metadata": {},
   "source": [
    "## 3. Write a Python Program for array rotation?"
   ]
  },
  {
   "cell_type": "code",
   "execution_count": 16,
   "id": "52dc3532",
   "metadata": {},
   "outputs": [
    {
     "name": "stdout",
     "output_type": "stream",
     "text": [
      "[37, 98, 54, 46, 56]\n"
     ]
    }
   ],
   "source": [
    "arr=[56,37,98,54,46]\n",
    "arr_len=len(arr)\n",
    "key=arr[0]\n",
    "for i in range(1,arr_len):\n",
    "    arr[i-1]=arr[i]\n",
    "    \n",
    "arr[arr_len-1]=key\n",
    "print(arr)"
   ]
  },
  {
   "cell_type": "markdown",
   "id": "6a3efdb7",
   "metadata": {},
   "source": [
    "## 4. Write a Python Program to Split the array and add the first part to the end?"
   ]
  },
  {
   "cell_type": "code",
   "execution_count": 3,
   "id": "edcba69a",
   "metadata": {},
   "outputs": [
    {
     "name": "stdout",
     "output_type": "stream",
     "text": [
      "[78, 35, 98, 56, 16, 57]\n"
     ]
    }
   ],
   "source": [
    "def splitarray(arr,n,k):\n",
    "    for i in range(0,k):\n",
    "        x=arr[0]\n",
    "        for j in range(0,n-1):\n",
    "            arr[j]=arr[j+1]\n",
    "        arr[n-1]=x\n",
    "    print(arr)\n",
    "arr=[16,57,78,35,98,56]\n",
    "n=len(arr)\n",
    "position=2\n",
    "splitarray(arr,n,position)"
   ]
  },
  {
   "cell_type": "markdown",
   "id": "d3eae0dd",
   "metadata": {},
   "source": [
    "## 5. Write a Python Program to check if given array is Monotonic?"
   ]
  },
  {
   "cell_type": "code",
   "execution_count": 5,
   "id": "be5e63bc",
   "metadata": {},
   "outputs": [
    {
     "name": "stdout",
     "output_type": "stream",
     "text": [
      "The array is monotonic\n"
     ]
    }
   ],
   "source": [
    "def monotonic(arr):\n",
    "    return all(arr[i] >= arr[i+1] for i in range(len(arr)-1)) or all(arr[i]<=arr[i+1] for i in range(len(arr)-1))\n",
    "arr=[1,4,6,7,8,8,8,]\n",
    "ans=monotonic(arr)\n",
    "if ans==True:\n",
    "    print(\"The array is monotonic\")\n",
    "else:\n",
    "    print(\"The array is not monotonic.\")"
   ]
  },
  {
   "cell_type": "code",
   "execution_count": null,
   "id": "96e2427a",
   "metadata": {},
   "outputs": [],
   "source": []
  }
 ],
 "metadata": {
  "kernelspec": {
   "display_name": "Python 3 (ipykernel)",
   "language": "python",
   "name": "python3"
  },
  "language_info": {
   "codemirror_mode": {
    "name": "ipython",
    "version": 3
   },
   "file_extension": ".py",
   "mimetype": "text/x-python",
   "name": "python",
   "nbconvert_exporter": "python",
   "pygments_lexer": "ipython3",
   "version": "3.9.7"
  }
 },
 "nbformat": 4,
 "nbformat_minor": 5
}
